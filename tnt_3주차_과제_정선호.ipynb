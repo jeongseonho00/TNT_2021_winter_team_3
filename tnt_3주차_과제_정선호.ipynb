{
  "nbformat": 4,
  "nbformat_minor": 0,
  "metadata": {
    "colab": {
      "name": "tnt 3주차 과제_정선호.ipynb",
      "provenance": [],
      "collapsed_sections": []
    },
    "kernelspec": {
      "name": "python3",
      "display_name": "Python 3"
    }
  },
  "cells": [
    {
      "cell_type": "markdown",
      "metadata": {
        "id": "mXgA3_7w8rDg"
      },
      "source": [
        "#TNT 3주차 과제 - 정선호\r\n",
        "logistic regression 사용\r\n",
        "\r\n",
        "늦어서 죄송합니다\r\n",
        "\r\n",
        "코드가 더럽거나 잘못 사용했을 수 있습니다 ㅜㅜ"
      ]
    },
    {
      "cell_type": "markdown",
      "metadata": {
        "id": "2NPFKhXMfenR"
      },
      "source": [
        "#1-(1)"
      ]
    },
    {
      "cell_type": "code",
      "metadata": {
        "id": "CquKiHpZmGjY",
        "colab": {
          "base_uri": "https://localhost:8080/"
        },
        "outputId": "7d00ce9f-86ab-47eb-a105-1da0b5df157b"
      },
      "source": [
        "from sklearn.linear_model import LogisticRegression\r\n",
        "import numpy as np\r\n",
        "import matplotlib.pyplot as plt\r\n",
        "import pandas as pd\r\n",
        "from sklearn.preprocessing import StandardScaler\r\n",
        "import statsmodels.api as sm\r\n",
        "\r\n",
        "import seaborn as sns"
      ],
      "execution_count": 1,
      "outputs": [
        {
          "output_type": "stream",
          "text": [
            "/usr/local/lib/python3.6/dist-packages/statsmodels/tools/_testing.py:19: FutureWarning: pandas.util.testing is deprecated. Use the functions in the public API at pandas.testing instead.\n",
            "  import pandas.util.testing as tm\n"
          ],
          "name": "stderr"
        }
      ]
    },
    {
      "cell_type": "code",
      "metadata": {
        "id": "FwctkVLwmV3_"
      },
      "source": [
        "train = pd.read_csv('/content/drive/Shareddrives/TNT/스터디/2021년 겨울방학/과제/3주차 과제/heart attack train.csv')\r\n",
        "test = pd.read_csv('/content/drive/Shareddrives/TNT/스터디/2021년 겨울방학/과제/3주차 과제/heart attack test.csv')"
      ],
      "execution_count": 2,
      "outputs": []
    },
    {
      "cell_type": "code",
      "metadata": {
        "id": "3W_dlb3GmYTV"
      },
      "source": [
        "train.drop('Unnamed: 0',axis=1, inplace=True)\r\n",
        "test.drop('Unnamed: 0',axis=1, inplace=True)"
      ],
      "execution_count": 3,
      "outputs": []
    },
    {
      "cell_type": "code",
      "metadata": {
        "colab": {
          "base_uri": "https://localhost:8080/"
        },
        "id": "iWN97su4bpHq",
        "outputId": "3810aeb8-b8fd-4778-c2cb-5a9eb804b37e"
      },
      "source": [
        "print(train.info())\r\n",
        "print(test.info())"
      ],
      "execution_count": 4,
      "outputs": [
        {
          "output_type": "stream",
          "text": [
            "<class 'pandas.core.frame.DataFrame'>\n",
            "RangeIndex: 242 entries, 0 to 241\n",
            "Data columns (total 14 columns):\n",
            " #   Column    Non-Null Count  Dtype  \n",
            "---  ------    --------------  -----  \n",
            " 0   age       242 non-null    int64  \n",
            " 1   sex       242 non-null    int64  \n",
            " 2   cp        242 non-null    int64  \n",
            " 3   trestbps  242 non-null    int64  \n",
            " 4   chol      242 non-null    int64  \n",
            " 5   fbs       242 non-null    int64  \n",
            " 6   restecg   242 non-null    int64  \n",
            " 7   thalach   242 non-null    int64  \n",
            " 8   exang     242 non-null    int64  \n",
            " 9   oldpeak   242 non-null    float64\n",
            " 10  slope     242 non-null    int64  \n",
            " 11  ca        242 non-null    int64  \n",
            " 12  thal      242 non-null    int64  \n",
            " 13  target    242 non-null    int64  \n",
            "dtypes: float64(1), int64(13)\n",
            "memory usage: 26.6 KB\n",
            "None\n",
            "<class 'pandas.core.frame.DataFrame'>\n",
            "RangeIndex: 61 entries, 0 to 60\n",
            "Data columns (total 14 columns):\n",
            " #   Column    Non-Null Count  Dtype  \n",
            "---  ------    --------------  -----  \n",
            " 0   age       61 non-null     int64  \n",
            " 1   sex       61 non-null     int64  \n",
            " 2   cp        61 non-null     int64  \n",
            " 3   trestbps  61 non-null     int64  \n",
            " 4   chol      61 non-null     int64  \n",
            " 5   fbs       61 non-null     int64  \n",
            " 6   restecg   61 non-null     int64  \n",
            " 7   thalach   61 non-null     int64  \n",
            " 8   exang     61 non-null     int64  \n",
            " 9   oldpeak   61 non-null     float64\n",
            " 10  slope     61 non-null     int64  \n",
            " 11  ca        61 non-null     int64  \n",
            " 12  thal      61 non-null     int64  \n",
            " 13  target    61 non-null     int64  \n",
            "dtypes: float64(1), int64(13)\n",
            "memory usage: 6.8 KB\n",
            "None\n"
          ],
          "name": "stdout"
        }
      ]
    },
    {
      "cell_type": "code",
      "metadata": {
        "colab": {
          "base_uri": "https://localhost:8080/"
        },
        "id": "ErYmD9jj-Vx2",
        "outputId": "3774dd69-8e22-45a3-94db-4a8055790973"
      },
      "source": [
        "train = sm.add_constant(train,has_constant=\"add\")\r\n",
        "print(train.head())\r\n",
        "test = sm.add_constant(test,has_constant=\"add\")\r\n",
        "print(test.head())"
      ],
      "execution_count": 5,
      "outputs": [
        {
          "output_type": "stream",
          "text": [
            "   const  age  sex  cp  trestbps  chol  ...  exang  oldpeak  slope  ca  thal  target\n",
            "0    1.0   52    1   3       118   186  ...      0      0.0      1   0     1       1\n",
            "1    1.0   67    0   2       152   277  ...      0      0.0      2   1     2       1\n",
            "2    1.0   57    1   2       150   126  ...      0      0.2      2   1     3       1\n",
            "3    1.0   57    1   1       154   232  ...      0      0.0      2   1     2       0\n",
            "4    1.0   50    0   1       120   244  ...      0      1.1      2   0     2       1\n",
            "\n",
            "[5 rows x 15 columns]\n",
            "   const  age  sex  cp  trestbps  chol  ...  exang  oldpeak  slope  ca  thal  target\n",
            "0    1.0   62    0   0       160   164  ...      0      6.2      0   3     3       0\n",
            "1    1.0   56    1   1       130   221  ...      0      0.0      2   0     3       1\n",
            "2    1.0   48    1   0       130   256  ...      1      0.0      2   2     3       0\n",
            "3    1.0   60    1   0       130   206  ...      1      2.4      1   2     3       0\n",
            "4    1.0   50    1   0       150   243  ...      0      2.6      1   0     3       0\n",
            "\n",
            "[5 rows x 15 columns]\n"
          ],
          "name": "stdout"
        }
      ]
    },
    {
      "cell_type": "code",
      "metadata": {
        "id": "zb-6NMUAmdf4"
      },
      "source": [
        "x_train, y_train = train.loc[:, train.columns != 'target'].values, train['target'].values \r\n",
        "x_test, y_test = test.loc[:, test.columns != 'target'].values, test['target'].values\r\n"
      ],
      "execution_count": 6,
      "outputs": []
    },
    {
      "cell_type": "code",
      "metadata": {
        "colab": {
          "base_uri": "https://localhost:8080/",
          "height": 415
        },
        "id": "cWWRoK3X4XpE",
        "outputId": "b870a8f7-965c-4b93-8c0a-b4bc79897bd4"
      },
      "source": [
        "train\r\n"
      ],
      "execution_count": 7,
      "outputs": [
        {
          "output_type": "execute_result",
          "data": {
            "text/html": [
              "<div>\n",
              "<style scoped>\n",
              "    .dataframe tbody tr th:only-of-type {\n",
              "        vertical-align: middle;\n",
              "    }\n",
              "\n",
              "    .dataframe tbody tr th {\n",
              "        vertical-align: top;\n",
              "    }\n",
              "\n",
              "    .dataframe thead th {\n",
              "        text-align: right;\n",
              "    }\n",
              "</style>\n",
              "<table border=\"1\" class=\"dataframe\">\n",
              "  <thead>\n",
              "    <tr style=\"text-align: right;\">\n",
              "      <th></th>\n",
              "      <th>const</th>\n",
              "      <th>age</th>\n",
              "      <th>sex</th>\n",
              "      <th>cp</th>\n",
              "      <th>trestbps</th>\n",
              "      <th>chol</th>\n",
              "      <th>fbs</th>\n",
              "      <th>restecg</th>\n",
              "      <th>thalach</th>\n",
              "      <th>exang</th>\n",
              "      <th>oldpeak</th>\n",
              "      <th>slope</th>\n",
              "      <th>ca</th>\n",
              "      <th>thal</th>\n",
              "      <th>target</th>\n",
              "    </tr>\n",
              "  </thead>\n",
              "  <tbody>\n",
              "    <tr>\n",
              "      <th>0</th>\n",
              "      <td>1.0</td>\n",
              "      <td>52</td>\n",
              "      <td>1</td>\n",
              "      <td>3</td>\n",
              "      <td>118</td>\n",
              "      <td>186</td>\n",
              "      <td>0</td>\n",
              "      <td>0</td>\n",
              "      <td>190</td>\n",
              "      <td>0</td>\n",
              "      <td>0.0</td>\n",
              "      <td>1</td>\n",
              "      <td>0</td>\n",
              "      <td>1</td>\n",
              "      <td>1</td>\n",
              "    </tr>\n",
              "    <tr>\n",
              "      <th>1</th>\n",
              "      <td>1.0</td>\n",
              "      <td>67</td>\n",
              "      <td>0</td>\n",
              "      <td>2</td>\n",
              "      <td>152</td>\n",
              "      <td>277</td>\n",
              "      <td>0</td>\n",
              "      <td>1</td>\n",
              "      <td>172</td>\n",
              "      <td>0</td>\n",
              "      <td>0.0</td>\n",
              "      <td>2</td>\n",
              "      <td>1</td>\n",
              "      <td>2</td>\n",
              "      <td>1</td>\n",
              "    </tr>\n",
              "    <tr>\n",
              "      <th>2</th>\n",
              "      <td>1.0</td>\n",
              "      <td>57</td>\n",
              "      <td>1</td>\n",
              "      <td>2</td>\n",
              "      <td>150</td>\n",
              "      <td>126</td>\n",
              "      <td>1</td>\n",
              "      <td>1</td>\n",
              "      <td>173</td>\n",
              "      <td>0</td>\n",
              "      <td>0.2</td>\n",
              "      <td>2</td>\n",
              "      <td>1</td>\n",
              "      <td>3</td>\n",
              "      <td>1</td>\n",
              "    </tr>\n",
              "    <tr>\n",
              "      <th>3</th>\n",
              "      <td>1.0</td>\n",
              "      <td>57</td>\n",
              "      <td>1</td>\n",
              "      <td>1</td>\n",
              "      <td>154</td>\n",
              "      <td>232</td>\n",
              "      <td>0</td>\n",
              "      <td>0</td>\n",
              "      <td>164</td>\n",
              "      <td>0</td>\n",
              "      <td>0.0</td>\n",
              "      <td>2</td>\n",
              "      <td>1</td>\n",
              "      <td>2</td>\n",
              "      <td>0</td>\n",
              "    </tr>\n",
              "    <tr>\n",
              "      <th>4</th>\n",
              "      <td>1.0</td>\n",
              "      <td>50</td>\n",
              "      <td>0</td>\n",
              "      <td>1</td>\n",
              "      <td>120</td>\n",
              "      <td>244</td>\n",
              "      <td>0</td>\n",
              "      <td>1</td>\n",
              "      <td>162</td>\n",
              "      <td>0</td>\n",
              "      <td>1.1</td>\n",
              "      <td>2</td>\n",
              "      <td>0</td>\n",
              "      <td>2</td>\n",
              "      <td>1</td>\n",
              "    </tr>\n",
              "    <tr>\n",
              "      <th>...</th>\n",
              "      <td>...</td>\n",
              "      <td>...</td>\n",
              "      <td>...</td>\n",
              "      <td>...</td>\n",
              "      <td>...</td>\n",
              "      <td>...</td>\n",
              "      <td>...</td>\n",
              "      <td>...</td>\n",
              "      <td>...</td>\n",
              "      <td>...</td>\n",
              "      <td>...</td>\n",
              "      <td>...</td>\n",
              "      <td>...</td>\n",
              "      <td>...</td>\n",
              "      <td>...</td>\n",
              "    </tr>\n",
              "    <tr>\n",
              "      <th>237</th>\n",
              "      <td>1.0</td>\n",
              "      <td>68</td>\n",
              "      <td>1</td>\n",
              "      <td>2</td>\n",
              "      <td>180</td>\n",
              "      <td>274</td>\n",
              "      <td>1</td>\n",
              "      <td>0</td>\n",
              "      <td>150</td>\n",
              "      <td>1</td>\n",
              "      <td>1.6</td>\n",
              "      <td>1</td>\n",
              "      <td>0</td>\n",
              "      <td>3</td>\n",
              "      <td>0</td>\n",
              "    </tr>\n",
              "    <tr>\n",
              "      <th>238</th>\n",
              "      <td>1.0</td>\n",
              "      <td>45</td>\n",
              "      <td>1</td>\n",
              "      <td>0</td>\n",
              "      <td>142</td>\n",
              "      <td>309</td>\n",
              "      <td>0</td>\n",
              "      <td>0</td>\n",
              "      <td>147</td>\n",
              "      <td>1</td>\n",
              "      <td>0.0</td>\n",
              "      <td>1</td>\n",
              "      <td>3</td>\n",
              "      <td>3</td>\n",
              "      <td>0</td>\n",
              "    </tr>\n",
              "    <tr>\n",
              "      <th>239</th>\n",
              "      <td>1.0</td>\n",
              "      <td>29</td>\n",
              "      <td>1</td>\n",
              "      <td>1</td>\n",
              "      <td>130</td>\n",
              "      <td>204</td>\n",
              "      <td>0</td>\n",
              "      <td>0</td>\n",
              "      <td>202</td>\n",
              "      <td>0</td>\n",
              "      <td>0.0</td>\n",
              "      <td>2</td>\n",
              "      <td>0</td>\n",
              "      <td>2</td>\n",
              "      <td>1</td>\n",
              "    </tr>\n",
              "    <tr>\n",
              "      <th>240</th>\n",
              "      <td>1.0</td>\n",
              "      <td>51</td>\n",
              "      <td>1</td>\n",
              "      <td>0</td>\n",
              "      <td>140</td>\n",
              "      <td>299</td>\n",
              "      <td>0</td>\n",
              "      <td>1</td>\n",
              "      <td>173</td>\n",
              "      <td>1</td>\n",
              "      <td>1.6</td>\n",
              "      <td>2</td>\n",
              "      <td>0</td>\n",
              "      <td>3</td>\n",
              "      <td>0</td>\n",
              "    </tr>\n",
              "    <tr>\n",
              "      <th>241</th>\n",
              "      <td>1.0</td>\n",
              "      <td>54</td>\n",
              "      <td>1</td>\n",
              "      <td>2</td>\n",
              "      <td>150</td>\n",
              "      <td>232</td>\n",
              "      <td>0</td>\n",
              "      <td>0</td>\n",
              "      <td>165</td>\n",
              "      <td>0</td>\n",
              "      <td>1.6</td>\n",
              "      <td>2</td>\n",
              "      <td>0</td>\n",
              "      <td>3</td>\n",
              "      <td>1</td>\n",
              "    </tr>\n",
              "  </tbody>\n",
              "</table>\n",
              "<p>242 rows × 15 columns</p>\n",
              "</div>"
            ],
            "text/plain": [
              "     const  age  sex  cp  trestbps  ...  oldpeak  slope  ca  thal  target\n",
              "0      1.0   52    1   3       118  ...      0.0      1   0     1       1\n",
              "1      1.0   67    0   2       152  ...      0.0      2   1     2       1\n",
              "2      1.0   57    1   2       150  ...      0.2      2   1     3       1\n",
              "3      1.0   57    1   1       154  ...      0.0      2   1     2       0\n",
              "4      1.0   50    0   1       120  ...      1.1      2   0     2       1\n",
              "..     ...  ...  ...  ..       ...  ...      ...    ...  ..   ...     ...\n",
              "237    1.0   68    1   2       180  ...      1.6      1   0     3       0\n",
              "238    1.0   45    1   0       142  ...      0.0      1   3     3       0\n",
              "239    1.0   29    1   1       130  ...      0.0      2   0     2       1\n",
              "240    1.0   51    1   0       140  ...      1.6      2   0     3       0\n",
              "241    1.0   54    1   2       150  ...      1.6      2   0     3       1\n",
              "\n",
              "[242 rows x 15 columns]"
            ]
          },
          "metadata": {
            "tags": []
          },
          "execution_count": 7
        }
      ]
    },
    {
      "cell_type": "code",
      "metadata": {
        "colab": {
          "base_uri": "https://localhost:8080/",
          "height": 549
        },
        "id": "yl-PKcNv6D7B",
        "outputId": "9e69c2d6-2abf-4c02-f77c-b1acd2100f64"
      },
      "source": [
        "\r\n",
        "logit_mod = sm.Logit(y_train,x_train)\r\n",
        "results = logit_mod.fit()\r\n",
        "results.summary()\r\n",
        "#age,chol,fbs,restecg,slope,thal은 \tP>|z|가 0.05 이상이므로 유효하지 않은 변수"
      ],
      "execution_count": 8,
      "outputs": [
        {
          "output_type": "stream",
          "text": [
            "Optimization terminated successfully.\n",
            "         Current function value: 0.314361\n",
            "         Iterations 8\n"
          ],
          "name": "stdout"
        },
        {
          "output_type": "execute_result",
          "data": {
            "text/html": [
              "<table class=\"simpletable\">\n",
              "<caption>Logit Regression Results</caption>\n",
              "<tr>\n",
              "  <th>Dep. Variable:</th>           <td>y</td>        <th>  No. Observations:  </th>  <td>   242</td>  \n",
              "</tr>\n",
              "<tr>\n",
              "  <th>Model:</th>                 <td>Logit</td>      <th>  Df Residuals:      </th>  <td>   228</td>  \n",
              "</tr>\n",
              "<tr>\n",
              "  <th>Method:</th>                 <td>MLE</td>       <th>  Df Model:          </th>  <td>    13</td>  \n",
              "</tr>\n",
              "<tr>\n",
              "  <th>Date:</th>            <td>Sat, 16 Jan 2021</td> <th>  Pseudo R-squ.:     </th>  <td>0.5427</td>  \n",
              "</tr>\n",
              "<tr>\n",
              "  <th>Time:</th>                <td>16:06:16</td>     <th>  Log-Likelihood:    </th> <td> -76.075</td> \n",
              "</tr>\n",
              "<tr>\n",
              "  <th>converged:</th>             <td>True</td>       <th>  LL-Null:           </th> <td> -166.34</td> \n",
              "</tr>\n",
              "<tr>\n",
              "  <th>Covariance Type:</th>     <td>nonrobust</td>    <th>  LLR p-value:       </th> <td>1.321e-31</td>\n",
              "</tr>\n",
              "</table>\n",
              "<table class=\"simpletable\">\n",
              "<tr>\n",
              "    <td></td>       <th>coef</th>     <th>std err</th>      <th>z</th>      <th>P>|z|</th>  <th>[0.025</th>    <th>0.975]</th>  \n",
              "</tr>\n",
              "<tr>\n",
              "  <th>const</th> <td>    3.8430</td> <td>    3.131</td> <td>    1.228</td> <td> 0.220</td> <td>   -2.293</td> <td>    9.979</td>\n",
              "</tr>\n",
              "<tr>\n",
              "  <th>x1</th>    <td>   -0.0197</td> <td>    0.028</td> <td>   -0.712</td> <td> 0.477</td> <td>   -0.074</td> <td>    0.035</td>\n",
              "</tr>\n",
              "<tr>\n",
              "  <th>x2</th>    <td>   -2.6418</td> <td>    0.629</td> <td>   -4.202</td> <td> 0.000</td> <td>   -3.874</td> <td>   -1.410</td>\n",
              "</tr>\n",
              "<tr>\n",
              "  <th>x3</th>    <td>    1.1433</td> <td>    0.232</td> <td>    4.918</td> <td> 0.000</td> <td>    0.688</td> <td>    1.599</td>\n",
              "</tr>\n",
              "<tr>\n",
              "  <th>x4</th>    <td>   -0.0278</td> <td>    0.013</td> <td>   -2.196</td> <td> 0.028</td> <td>   -0.053</td> <td>   -0.003</td>\n",
              "</tr>\n",
              "<tr>\n",
              "  <th>x5</th>    <td>   -0.0058</td> <td>    0.005</td> <td>   -1.246</td> <td> 0.213</td> <td>   -0.015</td> <td>    0.003</td>\n",
              "</tr>\n",
              "<tr>\n",
              "  <th>x6</th>    <td>    0.3069</td> <td>    0.630</td> <td>    0.487</td> <td> 0.626</td> <td>   -0.929</td> <td>    1.543</td>\n",
              "</tr>\n",
              "<tr>\n",
              "  <th>x7</th>    <td>    0.7154</td> <td>    0.426</td> <td>    1.679</td> <td> 0.093</td> <td>   -0.120</td> <td>    1.551</td>\n",
              "</tr>\n",
              "<tr>\n",
              "  <th>x8</th>    <td>    0.0332</td> <td>    0.013</td> <td>    2.559</td> <td> 0.010</td> <td>    0.008</td> <td>    0.059</td>\n",
              "</tr>\n",
              "<tr>\n",
              "  <th>x9</th>    <td>   -1.2074</td> <td>    0.498</td> <td>   -2.423</td> <td> 0.015</td> <td>   -2.184</td> <td>   -0.231</td>\n",
              "</tr>\n",
              "<tr>\n",
              "  <th>x10</th>   <td>   -0.7233</td> <td>    0.264</td> <td>   -2.742</td> <td> 0.006</td> <td>   -1.240</td> <td>   -0.206</td>\n",
              "</tr>\n",
              "<tr>\n",
              "  <th>x11</th>   <td>    0.2506</td> <td>    0.436</td> <td>    0.575</td> <td> 0.565</td> <td>   -0.604</td> <td>    1.105</td>\n",
              "</tr>\n",
              "<tr>\n",
              "  <th>x12</th>   <td>   -0.6887</td> <td>    0.224</td> <td>   -3.074</td> <td> 0.002</td> <td>   -1.128</td> <td>   -0.250</td>\n",
              "</tr>\n",
              "<tr>\n",
              "  <th>x13</th>   <td>   -0.3698</td> <td>    0.344</td> <td>   -1.074</td> <td> 0.283</td> <td>   -1.045</td> <td>    0.305</td>\n",
              "</tr>\n",
              "</table>"
            ],
            "text/plain": [
              "<class 'statsmodels.iolib.summary.Summary'>\n",
              "\"\"\"\n",
              "                           Logit Regression Results                           \n",
              "==============================================================================\n",
              "Dep. Variable:                      y   No. Observations:                  242\n",
              "Model:                          Logit   Df Residuals:                      228\n",
              "Method:                           MLE   Df Model:                           13\n",
              "Date:                Sat, 16 Jan 2021   Pseudo R-squ.:                  0.5427\n",
              "Time:                        16:06:16   Log-Likelihood:                -76.075\n",
              "converged:                       True   LL-Null:                       -166.34\n",
              "Covariance Type:            nonrobust   LLR p-value:                 1.321e-31\n",
              "==============================================================================\n",
              "                 coef    std err          z      P>|z|      [0.025      0.975]\n",
              "------------------------------------------------------------------------------\n",
              "const          3.8430      3.131      1.228      0.220      -2.293       9.979\n",
              "x1            -0.0197      0.028     -0.712      0.477      -0.074       0.035\n",
              "x2            -2.6418      0.629     -4.202      0.000      -3.874      -1.410\n",
              "x3             1.1433      0.232      4.918      0.000       0.688       1.599\n",
              "x4            -0.0278      0.013     -2.196      0.028      -0.053      -0.003\n",
              "x5            -0.0058      0.005     -1.246      0.213      -0.015       0.003\n",
              "x6             0.3069      0.630      0.487      0.626      -0.929       1.543\n",
              "x7             0.7154      0.426      1.679      0.093      -0.120       1.551\n",
              "x8             0.0332      0.013      2.559      0.010       0.008       0.059\n",
              "x9            -1.2074      0.498     -2.423      0.015      -2.184      -0.231\n",
              "x10           -0.7233      0.264     -2.742      0.006      -1.240      -0.206\n",
              "x11            0.2506      0.436      0.575      0.565      -0.604       1.105\n",
              "x12           -0.6887      0.224     -3.074      0.002      -1.128      -0.250\n",
              "x13           -0.3698      0.344     -1.074      0.283      -1.045       0.305\n",
              "==============================================================================\n",
              "\"\"\""
            ]
          },
          "metadata": {
            "tags": []
          },
          "execution_count": 8
        }
      ]
    },
    {
      "cell_type": "code",
      "metadata": {
        "colab": {
          "base_uri": "https://localhost:8080/"
        },
        "id": "gDe9Q1cwYVwV",
        "outputId": "d451c08a-2ae1-45ca-eb0c-3275ecfbca21"
      },
      "source": [
        "y_pred = results.predict(x_test)\r\n",
        "y_pred\r\n",
        "#test셋에 fit"
      ],
      "execution_count": 9,
      "outputs": [
        {
          "output_type": "execute_result",
          "data": {
            "text/plain": [
              "array([0.00352175, 0.75490177, 0.05873662, 0.00365221, 0.02028705,\n",
              "       0.00175432, 0.00717717, 0.73427004, 0.00161217, 0.99592298,\n",
              "       0.27309117, 0.05805007, 0.87232465, 0.20249367, 0.27567876,\n",
              "       0.96936779, 0.99418943, 0.00930883, 0.44888158, 0.78898622,\n",
              "       0.99258416, 0.01371419, 0.78569169, 0.99201911, 0.99255774,\n",
              "       0.79112135, 0.00213045, 0.98913674, 0.92535569, 0.99696781,\n",
              "       0.96712226, 0.87173302, 0.80383721, 0.8492041 , 0.02923024,\n",
              "       0.37591958, 0.05495143, 0.26124652, 0.72215692, 0.03717283,\n",
              "       0.97681375, 0.03221082, 0.15720385, 0.00168495, 0.82121826,\n",
              "       0.92101104, 0.38596207, 0.8246539 , 0.7281784 , 0.97101635,\n",
              "       0.96897869, 0.79900393, 0.92432622, 0.78544044, 0.99708999,\n",
              "       0.99368676, 0.77489149, 0.01198191, 0.75500836, 0.01155672,\n",
              "       0.51117405])"
            ]
          },
          "metadata": {
            "tags": []
          },
          "execution_count": 9
        }
      ]
    },
    {
      "cell_type": "code",
      "metadata": {
        "colab": {
          "base_uri": "https://localhost:8080/"
        },
        "id": "5D1efS5tZYRv",
        "outputId": "b2f4db8b-ec63-4d13-e46f-bab547ee4f70"
      },
      "source": [
        "def cut_off(y,threshold):\r\n",
        "  Y = y.copy()\r\n",
        "  Y[Y>threshold]=1\r\n",
        "  Y[Y<=threshold]=0\r\n",
        "  return(Y.astype(int))\r\n",
        "pred_Y = cut_off(y_pred,0.5)\r\n",
        "pred_Y  \r\n",
        "#0.5 초과면 1로 분류, 이하면 0으로 분류"
      ],
      "execution_count": 10,
      "outputs": [
        {
          "output_type": "execute_result",
          "data": {
            "text/plain": [
              "array([0, 1, 0, 0, 0, 0, 0, 1, 0, 1, 0, 0, 1, 0, 0, 1, 1, 0, 0, 1, 1, 0,\n",
              "       1, 1, 1, 1, 0, 1, 1, 1, 1, 1, 1, 1, 0, 0, 0, 0, 1, 0, 1, 0, 0, 0,\n",
              "       1, 1, 0, 1, 1, 1, 1, 1, 1, 1, 1, 1, 1, 0, 1, 0, 1])"
            ]
          },
          "metadata": {
            "tags": []
          },
          "execution_count": 10
        }
      ]
    },
    {
      "cell_type": "markdown",
      "metadata": {
        "id": "xwicIhS5a5nc"
      },
      "source": [
        "![image.png](data:image/png;base64,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)"
      ]
    },
    {
      "cell_type": "code",
      "metadata": {
        "colab": {
          "base_uri": "https://localhost:8080/"
        },
        "id": "7E00h1-OaPi-",
        "outputId": "287f5324-ddae-46e4-b004-c2288af1715a"
      },
      "source": [
        "from sklearn import metrics\r\n",
        "from sklearn.metrics import confusion_matrix\r\n",
        "cfmat = confusion_matrix(y_test,pred_Y)\r\n",
        "print(cfmat)\r\n",
        "#test set 오분류와 정확도 알아보기 위해!"
      ],
      "execution_count": 11,
      "outputs": [
        {
          "output_type": "stream",
          "text": [
            "[[20 10]\n",
            " [ 6 25]]\n"
          ],
          "name": "stdout"
        }
      ]
    },
    {
      "cell_type": "code",
      "metadata": {
        "colab": {
          "base_uri": "https://localhost:8080/"
        },
        "id": "QZqfsa1sbBwm",
        "outputId": "3a9d9c32-4b78-4149-fd6b-cd0601fc27fd"
      },
      "source": [
        "(cfmat[0,0]+cfmat[1,1])/len(pred_Y)\r\n",
        "#정확도"
      ],
      "execution_count": 12,
      "outputs": [
        {
          "output_type": "execute_result",
          "data": {
            "text/plain": [
              "0.7377049180327869"
            ]
          },
          "metadata": {
            "tags": []
          },
          "execution_count": 12
        }
      ]
    },
    {
      "cell_type": "code",
      "metadata": {
        "colab": {
          "base_uri": "https://localhost:8080/"
        },
        "id": "V1Mr0Jgy8Rcw",
        "outputId": "86b16e2d-2644-4056-8939-d4ab6b5efe79"
      },
      "source": [
        "np.exp(results.params) #target과 변수와의 상관관계"
      ],
      "execution_count": 13,
      "outputs": [
        {
          "output_type": "execute_result",
          "data": {
            "text/plain": [
              "array([46.66411502,  0.98046508,  0.07123023,  3.13698979,  0.97254216,\n",
              "        0.99416871,  1.35917814,  2.04497741,  1.03371787,  0.29897865,\n",
              "        0.48516072,  1.28483309,  0.502241  ,  0.69087075])"
            ]
          },
          "metadata": {
            "tags": []
          },
          "execution_count": 13
        }
      ]
    },
    {
      "cell_type": "code",
      "metadata": {
        "id": "NSTcf3M4cTNc"
      },
      "source": [
        "X_train, Y_train =  train[['sex','cp','trestbps','thalach','exang','oldpeak','ca']].values, train['target'].values \r\n",
        "X_test, Y_test =  test[['sex','cp','trestbps','thalach','exang','oldpeak','ca']].values, test['target'].values\r\n"
      ],
      "execution_count": 14,
      "outputs": []
    },
    {
      "cell_type": "code",
      "metadata": {
        "colab": {
          "base_uri": "https://localhost:8080/",
          "height": 405
        },
        "id": "W71kqC3d7n3Q",
        "outputId": "6b988031-c7e8-4fc6-8f18-de56832c2f9b"
      },
      "source": [
        "logit_mod2 = sm.Logit(Y_train, X_train)\r\n",
        "results2 = logit_mod2.fit()\r\n",
        "results2.summary()\r\n",
        "#위에서 P>|z|가 유의하지 않은 것들을 모두 제외해주었더니 all good"
      ],
      "execution_count": 15,
      "outputs": [
        {
          "output_type": "stream",
          "text": [
            "Optimization terminated successfully.\n",
            "         Current function value: 0.333663\n",
            "         Iterations 7\n"
          ],
          "name": "stdout"
        },
        {
          "output_type": "execute_result",
          "data": {
            "text/html": [
              "<table class=\"simpletable\">\n",
              "<caption>Logit Regression Results</caption>\n",
              "<tr>\n",
              "  <th>Dep. Variable:</th>           <td>y</td>        <th>  No. Observations:  </th>  <td>   242</td>  \n",
              "</tr>\n",
              "<tr>\n",
              "  <th>Model:</th>                 <td>Logit</td>      <th>  Df Residuals:      </th>  <td>   235</td>  \n",
              "</tr>\n",
              "<tr>\n",
              "  <th>Method:</th>                 <td>MLE</td>       <th>  Df Model:          </th>  <td>     6</td>  \n",
              "</tr>\n",
              "<tr>\n",
              "  <th>Date:</th>            <td>Sat, 16 Jan 2021</td> <th>  Pseudo R-squ.:     </th>  <td>0.5146</td>  \n",
              "</tr>\n",
              "<tr>\n",
              "  <th>Time:</th>                <td>16:06:16</td>     <th>  Log-Likelihood:    </th> <td> -80.746</td> \n",
              "</tr>\n",
              "<tr>\n",
              "  <th>converged:</th>             <td>True</td>       <th>  LL-Null:           </th> <td> -166.34</td> \n",
              "</tr>\n",
              "<tr>\n",
              "  <th>Covariance Type:</th>     <td>nonrobust</td>    <th>  LLR p-value:       </th> <td>2.513e-34</td>\n",
              "</tr>\n",
              "</table>\n",
              "<table class=\"simpletable\">\n",
              "<tr>\n",
              "   <td></td>     <th>coef</th>     <th>std err</th>      <th>z</th>      <th>P>|z|</th>  <th>[0.025</th>    <th>0.975]</th>  \n",
              "</tr>\n",
              "<tr>\n",
              "  <th>x1</th> <td>   -2.2608</td> <td>    0.530</td> <td>   -4.263</td> <td> 0.000</td> <td>   -3.300</td> <td>   -1.221</td>\n",
              "</tr>\n",
              "<tr>\n",
              "  <th>x2</th> <td>    1.1248</td> <td>    0.221</td> <td>    5.101</td> <td> 0.000</td> <td>    0.693</td> <td>    1.557</td>\n",
              "</tr>\n",
              "<tr>\n",
              "  <th>x3</th> <td>   -0.0260</td> <td>    0.010</td> <td>   -2.712</td> <td> 0.007</td> <td>   -0.045</td> <td>   -0.007</td>\n",
              "</tr>\n",
              "<tr>\n",
              "  <th>x4</th> <td>    0.0382</td> <td>    0.009</td> <td>    4.397</td> <td> 0.000</td> <td>    0.021</td> <td>    0.055</td>\n",
              "</tr>\n",
              "<tr>\n",
              "  <th>x5</th> <td>   -1.1299</td> <td>    0.463</td> <td>   -2.442</td> <td> 0.015</td> <td>   -2.037</td> <td>   -0.223</td>\n",
              "</tr>\n",
              "<tr>\n",
              "  <th>x6</th> <td>   -0.8000</td> <td>    0.217</td> <td>   -3.679</td> <td> 0.000</td> <td>   -1.226</td> <td>   -0.374</td>\n",
              "</tr>\n",
              "<tr>\n",
              "  <th>x7</th> <td>   -0.6560</td> <td>    0.201</td> <td>   -3.263</td> <td> 0.001</td> <td>   -1.050</td> <td>   -0.262</td>\n",
              "</tr>\n",
              "</table>"
            ],
            "text/plain": [
              "<class 'statsmodels.iolib.summary.Summary'>\n",
              "\"\"\"\n",
              "                           Logit Regression Results                           \n",
              "==============================================================================\n",
              "Dep. Variable:                      y   No. Observations:                  242\n",
              "Model:                          Logit   Df Residuals:                      235\n",
              "Method:                           MLE   Df Model:                            6\n",
              "Date:                Sat, 16 Jan 2021   Pseudo R-squ.:                  0.5146\n",
              "Time:                        16:06:16   Log-Likelihood:                -80.746\n",
              "converged:                       True   LL-Null:                       -166.34\n",
              "Covariance Type:            nonrobust   LLR p-value:                 2.513e-34\n",
              "==============================================================================\n",
              "                 coef    std err          z      P>|z|      [0.025      0.975]\n",
              "------------------------------------------------------------------------------\n",
              "x1            -2.2608      0.530     -4.263      0.000      -3.300      -1.221\n",
              "x2             1.1248      0.221      5.101      0.000       0.693       1.557\n",
              "x3            -0.0260      0.010     -2.712      0.007      -0.045      -0.007\n",
              "x4             0.0382      0.009      4.397      0.000       0.021       0.055\n",
              "x5            -1.1299      0.463     -2.442      0.015      -2.037      -0.223\n",
              "x6            -0.8000      0.217     -3.679      0.000      -1.226      -0.374\n",
              "x7            -0.6560      0.201     -3.263      0.001      -1.050      -0.262\n",
              "==============================================================================\n",
              "\"\"\""
            ]
          },
          "metadata": {
            "tags": []
          },
          "execution_count": 15
        }
      ]
    },
    {
      "cell_type": "markdown",
      "metadata": {
        "id": "FZeviWNfgeT0"
      },
      "source": [
        "#1-(2)\r\n",
        "\r\n",
        "아래 상관관계 순서대로(exp 해주면 저게 로그오즈라는 것 같음) 'sex','cp','trestbps','thalach','exang','oldpeak','ca'을 나타낸다. \r\n",
        "아래의 의미는 예를들면 trestbps가 1 증가함에 따라 target이 1이 될 확률이 0.97배 증가한다는 의미이다. cp,trestbps,thalach는 비교적 결과에 큰 영향을 미치고 나머지는 영향력이 미미하다."
      ]
    },
    {
      "cell_type": "code",
      "metadata": {
        "colab": {
          "base_uri": "https://localhost:8080/"
        },
        "id": "FE9IHDTw8eLY",
        "outputId": "13dce555-53d6-44fb-f5c7-a541d2c229ec"
      },
      "source": [
        "np.exp(results2.params)"
      ],
      "execution_count": 16,
      "outputs": [
        {
          "output_type": "execute_result",
          "data": {
            "text/plain": [
              "array([0.10426612, 3.07952371, 0.97436624, 1.03895659, 0.32306848,\n",
              "       0.44930768, 0.51890902])"
            ]
          },
          "metadata": {
            "tags": []
          },
          "execution_count": 16
        }
      ]
    },
    {
      "cell_type": "code",
      "metadata": {
        "colab": {
          "base_uri": "https://localhost:8080/"
        },
        "id": "qIT_MoAwcOn0",
        "outputId": "9344570f-9998-49db-fa57-912dcdbcba9f"
      },
      "source": [
        "Y_pred = results2.predict(X_test)\r\n",
        "Y_pred"
      ],
      "execution_count": 17,
      "outputs": [
        {
          "output_type": "execute_result",
          "data": {
            "text/plain": [
              "array([0.00390415, 0.84780416, 0.08737962, 0.00700518, 0.03408002,\n",
              "       0.00238724, 0.01613852, 0.74941486, 0.00505934, 0.98873733,\n",
              "       0.51843284, 0.16310746, 0.88993159, 0.30558935, 0.20045639,\n",
              "       0.97685704, 0.99097807, 0.03999949, 0.30555362, 0.93184824,\n",
              "       0.98246472, 0.00952908, 0.89756407, 0.98172189, 0.9917114 ,\n",
              "       0.59690235, 0.00433636, 0.98056688, 0.79460522, 0.99706243,\n",
              "       0.91258481, 0.82392776, 0.81180987, 0.89056809, 0.045878  ,\n",
              "       0.52051963, 0.04825184, 0.32092673, 0.71524226, 0.05540529,\n",
              "       0.95338193, 0.0182051 , 0.06711207, 0.00316356, 0.70005831,\n",
              "       0.95617837, 0.14909464, 0.81806261, 0.6702497 , 0.97171876,\n",
              "       0.92903589, 0.80946244, 0.91226506, 0.77999116, 0.99668738,\n",
              "       0.98449957, 0.77566529, 0.02107575, 0.68627515, 0.01564765,\n",
              "       0.52030647])"
            ]
          },
          "metadata": {
            "tags": []
          },
          "execution_count": 17
        }
      ]
    },
    {
      "cell_type": "code",
      "metadata": {
        "colab": {
          "base_uri": "https://localhost:8080/"
        },
        "id": "2UH-j-tPdlKX",
        "outputId": "93a17c19-d104-49c6-d880-da70edea4f9f"
      },
      "source": [
        "pred_Y2 = cut_off(Y_pred,0.5)\r\n",
        "pred_Y2  "
      ],
      "execution_count": 18,
      "outputs": [
        {
          "output_type": "execute_result",
          "data": {
            "text/plain": [
              "array([0, 1, 0, 0, 0, 0, 0, 1, 0, 1, 1, 0, 1, 0, 0, 1, 1, 0, 0, 1, 1, 0,\n",
              "       1, 1, 1, 1, 0, 1, 1, 1, 1, 1, 1, 1, 0, 1, 0, 0, 1, 0, 1, 0, 0, 0,\n",
              "       1, 1, 0, 1, 1, 1, 1, 1, 1, 1, 1, 1, 1, 0, 1, 0, 1])"
            ]
          },
          "metadata": {
            "tags": []
          },
          "execution_count": 18
        }
      ]
    },
    {
      "cell_type": "code",
      "metadata": {
        "colab": {
          "base_uri": "https://localhost:8080/"
        },
        "id": "cCkD-jxYdwvx",
        "outputId": "6ffbe4c7-fb87-4cda-f6f0-e755b86cf96f"
      },
      "source": [
        "cfmat = confusion_matrix(Y_test,pred_Y2)\r\n",
        "print(cfmat)"
      ],
      "execution_count": 19,
      "outputs": [
        {
          "output_type": "stream",
          "text": [
            "[[20 10]\n",
            " [ 4 27]]\n"
          ],
          "name": "stdout"
        }
      ]
    },
    {
      "cell_type": "code",
      "metadata": {
        "colab": {
          "base_uri": "https://localhost:8080/"
        },
        "id": "ncVlamQAd5Kr",
        "outputId": "d6d8d703-a7c2-40ae-a80d-b87c1668cf15"
      },
      "source": [
        "(cfmat[0,0]+cfmat[1,1])/len(pred_Y2)\r\n",
        "#변수선택 전보다 정확도 향상"
      ],
      "execution_count": 20,
      "outputs": [
        {
          "output_type": "execute_result",
          "data": {
            "text/plain": [
              "0.7704918032786885"
            ]
          },
          "metadata": {
            "tags": []
          },
          "execution_count": 20
        }
      ]
    },
    {
      "cell_type": "markdown",
      "metadata": {
        "id": "NhFRS3RfiDDm"
      },
      "source": [
        "#1-(3)\r\n",
        "test의 오분류율은 0.22이다."
      ]
    },
    {
      "cell_type": "code",
      "metadata": {
        "colab": {
          "base_uri": "https://localhost:8080/"
        },
        "id": "3KicvlyAiM2D",
        "outputId": "85772de5-3a6a-4230-9873-b7fb896c4748"
      },
      "source": [
        "(cfmat[0,1]+cfmat[1,0])/len(pred_Y2)"
      ],
      "execution_count": 21,
      "outputs": [
        {
          "output_type": "execute_result",
          "data": {
            "text/plain": [
              "0.22950819672131148"
            ]
          },
          "metadata": {
            "tags": []
          },
          "execution_count": 21
        }
      ]
    },
    {
      "cell_type": "markdown",
      "metadata": {
        "id": "LOjwp2cZi4OX"
      },
      "source": [
        "#2-(1)"
      ]
    },
    {
      "cell_type": "code",
      "metadata": {
        "id": "l2ae40cCinhV"
      },
      "source": [
        "train = pd.read_csv('/content/drive/Shareddrives/TNT/스터디/2021년 겨울방학/과제/3주차 과제/satisfaction_train.csv')\r\n",
        "test = pd.read_csv('/content/drive/Shareddrives/TNT/스터디/2021년 겨울방학/과제/3주차 과제/satisfaction_test.csv')"
      ],
      "execution_count": 22,
      "outputs": []
    },
    {
      "cell_type": "code",
      "metadata": {
        "colab": {
          "base_uri": "https://localhost:8080/"
        },
        "id": "xcpQ7n5Si2gK",
        "outputId": "d209e374-98cb-46f3-865f-f90d11d047e1"
      },
      "source": [
        "print(train.head())\r\n",
        "print(test.head())"
      ],
      "execution_count": 23,
      "outputs": [
        {
          "output_type": "stream",
          "text": [
            "   Unnamed: 0  Gender  ... Arrival Delay in Minutes  satisfaction\n",
            "0      105527  Female  ...                     65.0     satisfied\n",
            "1       82617  Female  ...                     37.0  dissatisfied\n",
            "2       34069  Female  ...                      0.0     satisfied\n",
            "3       18636    Male  ...                    567.0  dissatisfied\n",
            "4       28693  Female  ...                     72.0     satisfied\n",
            "\n",
            "[5 rows x 24 columns]\n",
            "   Unnamed: 0  Gender  ... Arrival Delay in Minutes  satisfaction\n",
            "0       25158    Male  ...                     81.0  dissatisfied\n",
            "1      116365    Male  ...                     60.0     satisfied\n",
            "2       55540    Male  ...                      0.0  dissatisfied\n",
            "3       58339  Female  ...                     20.0  dissatisfied\n",
            "4      109669  Female  ...                     13.0     satisfied\n",
            "\n",
            "[5 rows x 24 columns]\n"
          ],
          "name": "stdout"
        }
      ]
    },
    {
      "cell_type": "code",
      "metadata": {
        "id": "WsoJTdOqjXPX"
      },
      "source": [
        "train.drop('Unnamed: 0',axis=1,inplace=True)\r\n",
        "test.drop('Unnamed: 0',axis=1,inplace=True)"
      ],
      "execution_count": 24,
      "outputs": []
    },
    {
      "cell_type": "code",
      "metadata": {
        "colab": {
          "base_uri": "https://localhost:8080/"
        },
        "id": "cqzRlZ8tjggZ",
        "outputId": "d4d64b3a-4572-4713-ea0e-65883b41418d"
      },
      "source": [
        "print(train.info())\r\n",
        "print(test.info())"
      ],
      "execution_count": 25,
      "outputs": [
        {
          "output_type": "stream",
          "text": [
            "<class 'pandas.core.frame.DataFrame'>\n",
            "RangeIndex: 51794 entries, 0 to 51793\n",
            "Data columns (total 23 columns):\n",
            " #   Column                             Non-Null Count  Dtype  \n",
            "---  ------                             --------------  -----  \n",
            " 0   Gender                             51794 non-null  object \n",
            " 1   Customer Type                      51794 non-null  object \n",
            " 2   Age                                51794 non-null  int64  \n",
            " 3   Type of Travel                     51794 non-null  object \n",
            " 4   Class                              51794 non-null  object \n",
            " 5   Flight Distance                    51794 non-null  int64  \n",
            " 6   Seat comfort                       51794 non-null  int64  \n",
            " 7   Departure/Arrival time convenient  51794 non-null  int64  \n",
            " 8   Food and drink                     51794 non-null  int64  \n",
            " 9   Gate location                      51794 non-null  int64  \n",
            " 10  Inflight wifi service              51794 non-null  int64  \n",
            " 11  Inflight entertainment             51794 non-null  int64  \n",
            " 12  Online support                     51794 non-null  int64  \n",
            " 13  Ease of Online booking             51794 non-null  int64  \n",
            " 14  On-board service                   51794 non-null  int64  \n",
            " 15  Leg room service                   51794 non-null  int64  \n",
            " 16  Baggage handling                   51794 non-null  int64  \n",
            " 17  Checkin service                    51794 non-null  int64  \n",
            " 18  Cleanliness                        51794 non-null  int64  \n",
            " 19  Online boarding                    51794 non-null  int64  \n",
            " 20  Departure Delay in Minutes         51794 non-null  int64  \n",
            " 21  Arrival Delay in Minutes           51794 non-null  float64\n",
            " 22  satisfaction                       51794 non-null  object \n",
            "dtypes: float64(1), int64(17), object(5)\n",
            "memory usage: 9.1+ MB\n",
            "None\n",
            "<class 'pandas.core.frame.DataFrame'>\n",
            "RangeIndex: 12949 entries, 0 to 12948\n",
            "Data columns (total 23 columns):\n",
            " #   Column                             Non-Null Count  Dtype  \n",
            "---  ------                             --------------  -----  \n",
            " 0   Gender                             12949 non-null  object \n",
            " 1   Customer Type                      12949 non-null  object \n",
            " 2   Age                                12949 non-null  int64  \n",
            " 3   Type of Travel                     12949 non-null  object \n",
            " 4   Class                              12949 non-null  object \n",
            " 5   Flight Distance                    12949 non-null  int64  \n",
            " 6   Seat comfort                       12949 non-null  int64  \n",
            " 7   Departure/Arrival time convenient  12949 non-null  int64  \n",
            " 8   Food and drink                     12949 non-null  int64  \n",
            " 9   Gate location                      12949 non-null  int64  \n",
            " 10  Inflight wifi service              12949 non-null  int64  \n",
            " 11  Inflight entertainment             12949 non-null  int64  \n",
            " 12  Online support                     12949 non-null  int64  \n",
            " 13  Ease of Online booking             12949 non-null  int64  \n",
            " 14  On-board service                   12949 non-null  int64  \n",
            " 15  Leg room service                   12949 non-null  int64  \n",
            " 16  Baggage handling                   12949 non-null  int64  \n",
            " 17  Checkin service                    12949 non-null  int64  \n",
            " 18  Cleanliness                        12949 non-null  int64  \n",
            " 19  Online boarding                    12949 non-null  int64  \n",
            " 20  Departure Delay in Minutes         12949 non-null  int64  \n",
            " 21  Arrival Delay in Minutes           12949 non-null  float64\n",
            " 22  satisfaction                       12949 non-null  object \n",
            "dtypes: float64(1), int64(17), object(5)\n",
            "memory usage: 2.3+ MB\n",
            "None\n"
          ],
          "name": "stdout"
        }
      ]
    },
    {
      "cell_type": "code",
      "metadata": {
        "colab": {
          "base_uri": "https://localhost:8080/"
        },
        "id": "k70bqn6Tj0kV",
        "outputId": "f6106447-eb44-4fdf-99b4-c1a99b02a545"
      },
      "source": [
        "print(train['Gender'])\r\n",
        "print(train['Customer Type'])\r\n",
        "print(train['Type of Travel'])\r\n",
        "print(train['Class'])\r\n",
        "print(train['satisfaction'])"
      ],
      "execution_count": 26,
      "outputs": [
        {
          "output_type": "stream",
          "text": [
            "0        Female\n",
            "1        Female\n",
            "2        Female\n",
            "3          Male\n",
            "4        Female\n",
            "          ...  \n",
            "51789      Male\n",
            "51790      Male\n",
            "51791    Female\n",
            "51792      Male\n",
            "51793      Male\n",
            "Name: Gender, Length: 51794, dtype: object\n",
            "0        Loyal Customer\n",
            "1        Loyal Customer\n",
            "2        Loyal Customer\n",
            "3        Loyal Customer\n",
            "4        Loyal Customer\n",
            "              ...      \n",
            "51789    Loyal Customer\n",
            "51790    Loyal Customer\n",
            "51791    Loyal Customer\n",
            "51792    Loyal Customer\n",
            "51793    Loyal Customer\n",
            "Name: Customer Type, Length: 51794, dtype: object\n",
            "0        Business travel\n",
            "1        Business travel\n",
            "2        Personal Travel\n",
            "3        Personal Travel\n",
            "4        Personal Travel\n",
            "              ...       \n",
            "51789    Business travel\n",
            "51790    Business travel\n",
            "51791    Business travel\n",
            "51792    Business travel\n",
            "51793    Personal Travel\n",
            "Name: Type of Travel, Length: 51794, dtype: object\n",
            "0        Business\n",
            "1        Business\n",
            "2        Eco Plus\n",
            "3        Eco Plus\n",
            "4             Eco\n",
            "           ...   \n",
            "51789         Eco\n",
            "51790    Business\n",
            "51791    Business\n",
            "51792    Business\n",
            "51793         Eco\n",
            "Name: Class, Length: 51794, dtype: object\n",
            "0           satisfied\n",
            "1        dissatisfied\n",
            "2           satisfied\n",
            "3        dissatisfied\n",
            "4           satisfied\n",
            "             ...     \n",
            "51789    dissatisfied\n",
            "51790       satisfied\n",
            "51791       satisfied\n",
            "51792       satisfied\n",
            "51793    dissatisfied\n",
            "Name: satisfaction, Length: 51794, dtype: object\n"
          ],
          "name": "stdout"
        }
      ]
    },
    {
      "cell_type": "code",
      "metadata": {
        "colab": {
          "base_uri": "https://localhost:8080/"
        },
        "id": "4WVNOMKkjkmn",
        "outputId": "96f7bcd3-9d9f-4c9c-b332-34b8bfe1f0e9"
      },
      "source": [
        "from sklearn.preprocessing import LabelEncoder\r\n",
        "# LabelEncoder를 객체로 생성한 후 , fit( ) 과 transform( ) 으로 label 인코딩 수행. \r\n",
        "e = LabelEncoder()\r\n",
        "e.fit(train['Gender'])\r\n",
        "train['Gender'] = e.transform(train['Gender'].values)\r\n",
        "\r\n",
        "e.fit(train['Customer Type'])\r\n",
        "train['Customer Type'] = e.transform(train['Customer Type'])\r\n",
        "\r\n",
        "\r\n",
        "e.fit(train['Type of Travel'])\r\n",
        "train['Type of Travel'] = e.transform(train['Type of Travel'])\r\n",
        "\r\n",
        "#encoder.fit(train['Class'])\r\n",
        "#train['Class'] = encoder.transform(train['Class'])\r\n",
        "\r\n",
        "\r\n",
        "e.fit(train['satisfaction'])\r\n",
        "train['satisfaction'] = e.transform(train['satisfaction'])\r\n",
        "\r\n",
        "print(train)"
      ],
      "execution_count": 27,
      "outputs": [
        {
          "output_type": "stream",
          "text": [
            "       Gender  Customer Type  ...  Arrival Delay in Minutes  satisfaction\n",
            "0           0              0  ...                      65.0             1\n",
            "1           0              0  ...                      37.0             0\n",
            "2           0              0  ...                       0.0             1\n",
            "3           1              0  ...                     567.0             0\n",
            "4           0              0  ...                      72.0             1\n",
            "...       ...            ...  ...                       ...           ...\n",
            "51789       1              0  ...                       0.0             0\n",
            "51790       1              0  ...                       0.0             1\n",
            "51791       0              0  ...                       0.0             1\n",
            "51792       1              0  ...                       0.0             1\n",
            "51793       1              0  ...                       0.0             0\n",
            "\n",
            "[51794 rows x 23 columns]\n"
          ],
          "name": "stdout"
        }
      ]
    },
    {
      "cell_type": "code",
      "metadata": {
        "id": "yZO5nHI0lUDN"
      },
      "source": [
        "import pandas as pd\r\n",
        "\r\n",
        "train=train.join(pd.get_dummies(train['Class']))\r\n"
      ],
      "execution_count": 28,
      "outputs": []
    },
    {
      "cell_type": "code",
      "metadata": {
        "colab": {
          "base_uri": "https://localhost:8080/",
          "height": 487
        },
        "id": "dAGimiK5uhEB",
        "outputId": "7c7a09a7-29c4-453e-e56f-df246764b9c1"
      },
      "source": [
        "train.drop('Class',axis=1,inplace=True)\r\n",
        "train"
      ],
      "execution_count": 29,
      "outputs": [
        {
          "output_type": "execute_result",
          "data": {
            "text/html": [
              "<div>\n",
              "<style scoped>\n",
              "    .dataframe tbody tr th:only-of-type {\n",
              "        vertical-align: middle;\n",
              "    }\n",
              "\n",
              "    .dataframe tbody tr th {\n",
              "        vertical-align: top;\n",
              "    }\n",
              "\n",
              "    .dataframe thead th {\n",
              "        text-align: right;\n",
              "    }\n",
              "</style>\n",
              "<table border=\"1\" class=\"dataframe\">\n",
              "  <thead>\n",
              "    <tr style=\"text-align: right;\">\n",
              "      <th></th>\n",
              "      <th>Gender</th>\n",
              "      <th>Customer Type</th>\n",
              "      <th>Age</th>\n",
              "      <th>Type of Travel</th>\n",
              "      <th>Flight Distance</th>\n",
              "      <th>Seat comfort</th>\n",
              "      <th>Departure/Arrival time convenient</th>\n",
              "      <th>Food and drink</th>\n",
              "      <th>Gate location</th>\n",
              "      <th>Inflight wifi service</th>\n",
              "      <th>Inflight entertainment</th>\n",
              "      <th>Online support</th>\n",
              "      <th>Ease of Online booking</th>\n",
              "      <th>On-board service</th>\n",
              "      <th>Leg room service</th>\n",
              "      <th>Baggage handling</th>\n",
              "      <th>Checkin service</th>\n",
              "      <th>Cleanliness</th>\n",
              "      <th>Online boarding</th>\n",
              "      <th>Departure Delay in Minutes</th>\n",
              "      <th>Arrival Delay in Minutes</th>\n",
              "      <th>satisfaction</th>\n",
              "      <th>Business</th>\n",
              "      <th>Eco</th>\n",
              "      <th>Eco Plus</th>\n",
              "    </tr>\n",
              "  </thead>\n",
              "  <tbody>\n",
              "    <tr>\n",
              "      <th>0</th>\n",
              "      <td>0</td>\n",
              "      <td>0</td>\n",
              "      <td>39</td>\n",
              "      <td>0</td>\n",
              "      <td>2725</td>\n",
              "      <td>5</td>\n",
              "      <td>5</td>\n",
              "      <td>2</td>\n",
              "      <td>5</td>\n",
              "      <td>4</td>\n",
              "      <td>4</td>\n",
              "      <td>5</td>\n",
              "      <td>4</td>\n",
              "      <td>4</td>\n",
              "      <td>4</td>\n",
              "      <td>4</td>\n",
              "      <td>4</td>\n",
              "      <td>4</td>\n",
              "      <td>4</td>\n",
              "      <td>73</td>\n",
              "      <td>65.0</td>\n",
              "      <td>1</td>\n",
              "      <td>1</td>\n",
              "      <td>0</td>\n",
              "      <td>0</td>\n",
              "    </tr>\n",
              "    <tr>\n",
              "      <th>1</th>\n",
              "      <td>0</td>\n",
              "      <td>0</td>\n",
              "      <td>27</td>\n",
              "      <td>0</td>\n",
              "      <td>1634</td>\n",
              "      <td>3</td>\n",
              "      <td>3</td>\n",
              "      <td>3</td>\n",
              "      <td>3</td>\n",
              "      <td>3</td>\n",
              "      <td>3</td>\n",
              "      <td>3</td>\n",
              "      <td>3</td>\n",
              "      <td>3</td>\n",
              "      <td>4</td>\n",
              "      <td>4</td>\n",
              "      <td>2</td>\n",
              "      <td>3</td>\n",
              "      <td>3</td>\n",
              "      <td>39</td>\n",
              "      <td>37.0</td>\n",
              "      <td>0</td>\n",
              "      <td>1</td>\n",
              "      <td>0</td>\n",
              "      <td>0</td>\n",
              "    </tr>\n",
              "    <tr>\n",
              "      <th>2</th>\n",
              "      <td>0</td>\n",
              "      <td>0</td>\n",
              "      <td>21</td>\n",
              "      <td>1</td>\n",
              "      <td>1341</td>\n",
              "      <td>4</td>\n",
              "      <td>4</td>\n",
              "      <td>0</td>\n",
              "      <td>1</td>\n",
              "      <td>1</td>\n",
              "      <td>0</td>\n",
              "      <td>1</td>\n",
              "      <td>1</td>\n",
              "      <td>4</td>\n",
              "      <td>1</td>\n",
              "      <td>3</td>\n",
              "      <td>5</td>\n",
              "      <td>4</td>\n",
              "      <td>1</td>\n",
              "      <td>0</td>\n",
              "      <td>0.0</td>\n",
              "      <td>1</td>\n",
              "      <td>0</td>\n",
              "      <td>0</td>\n",
              "      <td>1</td>\n",
              "    </tr>\n",
              "    <tr>\n",
              "      <th>3</th>\n",
              "      <td>1</td>\n",
              "      <td>0</td>\n",
              "      <td>64</td>\n",
              "      <td>1</td>\n",
              "      <td>3794</td>\n",
              "      <td>2</td>\n",
              "      <td>5</td>\n",
              "      <td>2</td>\n",
              "      <td>4</td>\n",
              "      <td>2</td>\n",
              "      <td>1</td>\n",
              "      <td>1</td>\n",
              "      <td>5</td>\n",
              "      <td>3</td>\n",
              "      <td>3</td>\n",
              "      <td>5</td>\n",
              "      <td>1</td>\n",
              "      <td>4</td>\n",
              "      <td>1</td>\n",
              "      <td>570</td>\n",
              "      <td>567.0</td>\n",
              "      <td>0</td>\n",
              "      <td>0</td>\n",
              "      <td>0</td>\n",
              "      <td>1</td>\n",
              "    </tr>\n",
              "    <tr>\n",
              "      <th>4</th>\n",
              "      <td>0</td>\n",
              "      <td>0</td>\n",
              "      <td>69</td>\n",
              "      <td>1</td>\n",
              "      <td>1237</td>\n",
              "      <td>5</td>\n",
              "      <td>5</td>\n",
              "      <td>5</td>\n",
              "      <td>5</td>\n",
              "      <td>4</td>\n",
              "      <td>5</td>\n",
              "      <td>5</td>\n",
              "      <td>5</td>\n",
              "      <td>5</td>\n",
              "      <td>5</td>\n",
              "      <td>5</td>\n",
              "      <td>3</td>\n",
              "      <td>5</td>\n",
              "      <td>4</td>\n",
              "      <td>69</td>\n",
              "      <td>72.0</td>\n",
              "      <td>1</td>\n",
              "      <td>0</td>\n",
              "      <td>1</td>\n",
              "      <td>0</td>\n",
              "    </tr>\n",
              "    <tr>\n",
              "      <th>...</th>\n",
              "      <td>...</td>\n",
              "      <td>...</td>\n",
              "      <td>...</td>\n",
              "      <td>...</td>\n",
              "      <td>...</td>\n",
              "      <td>...</td>\n",
              "      <td>...</td>\n",
              "      <td>...</td>\n",
              "      <td>...</td>\n",
              "      <td>...</td>\n",
              "      <td>...</td>\n",
              "      <td>...</td>\n",
              "      <td>...</td>\n",
              "      <td>...</td>\n",
              "      <td>...</td>\n",
              "      <td>...</td>\n",
              "      <td>...</td>\n",
              "      <td>...</td>\n",
              "      <td>...</td>\n",
              "      <td>...</td>\n",
              "      <td>...</td>\n",
              "      <td>...</td>\n",
              "      <td>...</td>\n",
              "      <td>...</td>\n",
              "      <td>...</td>\n",
              "    </tr>\n",
              "    <tr>\n",
              "      <th>51789</th>\n",
              "      <td>1</td>\n",
              "      <td>0</td>\n",
              "      <td>49</td>\n",
              "      <td>0</td>\n",
              "      <td>2430</td>\n",
              "      <td>2</td>\n",
              "      <td>1</td>\n",
              "      <td>1</td>\n",
              "      <td>1</td>\n",
              "      <td>3</td>\n",
              "      <td>2</td>\n",
              "      <td>3</td>\n",
              "      <td>3</td>\n",
              "      <td>3</td>\n",
              "      <td>2</td>\n",
              "      <td>2</td>\n",
              "      <td>1</td>\n",
              "      <td>3</td>\n",
              "      <td>3</td>\n",
              "      <td>9</td>\n",
              "      <td>0.0</td>\n",
              "      <td>0</td>\n",
              "      <td>0</td>\n",
              "      <td>1</td>\n",
              "      <td>0</td>\n",
              "    </tr>\n",
              "    <tr>\n",
              "      <th>51790</th>\n",
              "      <td>1</td>\n",
              "      <td>0</td>\n",
              "      <td>43</td>\n",
              "      <td>0</td>\n",
              "      <td>1820</td>\n",
              "      <td>1</td>\n",
              "      <td>1</td>\n",
              "      <td>1</td>\n",
              "      <td>1</td>\n",
              "      <td>3</td>\n",
              "      <td>5</td>\n",
              "      <td>5</td>\n",
              "      <td>4</td>\n",
              "      <td>4</td>\n",
              "      <td>4</td>\n",
              "      <td>4</td>\n",
              "      <td>4</td>\n",
              "      <td>4</td>\n",
              "      <td>3</td>\n",
              "      <td>2</td>\n",
              "      <td>0.0</td>\n",
              "      <td>1</td>\n",
              "      <td>1</td>\n",
              "      <td>0</td>\n",
              "      <td>0</td>\n",
              "    </tr>\n",
              "    <tr>\n",
              "      <th>51791</th>\n",
              "      <td>0</td>\n",
              "      <td>0</td>\n",
              "      <td>49</td>\n",
              "      <td>0</td>\n",
              "      <td>1306</td>\n",
              "      <td>4</td>\n",
              "      <td>4</td>\n",
              "      <td>1</td>\n",
              "      <td>4</td>\n",
              "      <td>5</td>\n",
              "      <td>5</td>\n",
              "      <td>4</td>\n",
              "      <td>4</td>\n",
              "      <td>4</td>\n",
              "      <td>4</td>\n",
              "      <td>4</td>\n",
              "      <td>3</td>\n",
              "      <td>4</td>\n",
              "      <td>3</td>\n",
              "      <td>13</td>\n",
              "      <td>0.0</td>\n",
              "      <td>1</td>\n",
              "      <td>1</td>\n",
              "      <td>0</td>\n",
              "      <td>0</td>\n",
              "    </tr>\n",
              "    <tr>\n",
              "      <th>51792</th>\n",
              "      <td>1</td>\n",
              "      <td>0</td>\n",
              "      <td>39</td>\n",
              "      <td>0</td>\n",
              "      <td>3879</td>\n",
              "      <td>1</td>\n",
              "      <td>1</td>\n",
              "      <td>1</td>\n",
              "      <td>1</td>\n",
              "      <td>3</td>\n",
              "      <td>5</td>\n",
              "      <td>5</td>\n",
              "      <td>5</td>\n",
              "      <td>5</td>\n",
              "      <td>5</td>\n",
              "      <td>5</td>\n",
              "      <td>4</td>\n",
              "      <td>5</td>\n",
              "      <td>5</td>\n",
              "      <td>0</td>\n",
              "      <td>0.0</td>\n",
              "      <td>1</td>\n",
              "      <td>1</td>\n",
              "      <td>0</td>\n",
              "      <td>0</td>\n",
              "    </tr>\n",
              "    <tr>\n",
              "      <th>51793</th>\n",
              "      <td>1</td>\n",
              "      <td>0</td>\n",
              "      <td>28</td>\n",
              "      <td>1</td>\n",
              "      <td>3380</td>\n",
              "      <td>3</td>\n",
              "      <td>1</td>\n",
              "      <td>3</td>\n",
              "      <td>2</td>\n",
              "      <td>3</td>\n",
              "      <td>3</td>\n",
              "      <td>2</td>\n",
              "      <td>3</td>\n",
              "      <td>3</td>\n",
              "      <td>2</td>\n",
              "      <td>3</td>\n",
              "      <td>3</td>\n",
              "      <td>2</td>\n",
              "      <td>3</td>\n",
              "      <td>0</td>\n",
              "      <td>0.0</td>\n",
              "      <td>0</td>\n",
              "      <td>0</td>\n",
              "      <td>1</td>\n",
              "      <td>0</td>\n",
              "    </tr>\n",
              "  </tbody>\n",
              "</table>\n",
              "<p>51794 rows × 25 columns</p>\n",
              "</div>"
            ],
            "text/plain": [
              "       Gender  Customer Type  Age  ...  Business  Eco  Eco Plus\n",
              "0           0              0   39  ...         1    0         0\n",
              "1           0              0   27  ...         1    0         0\n",
              "2           0              0   21  ...         0    0         1\n",
              "3           1              0   64  ...         0    0         1\n",
              "4           0              0   69  ...         0    1         0\n",
              "...       ...            ...  ...  ...       ...  ...       ...\n",
              "51789       1              0   49  ...         0    1         0\n",
              "51790       1              0   43  ...         1    0         0\n",
              "51791       0              0   49  ...         1    0         0\n",
              "51792       1              0   39  ...         1    0         0\n",
              "51793       1              0   28  ...         0    1         0\n",
              "\n",
              "[51794 rows x 25 columns]"
            ]
          },
          "metadata": {
            "tags": []
          },
          "execution_count": 29
        }
      ]
    },
    {
      "cell_type": "code",
      "metadata": {
        "id": "qbuUNSgkulS6"
      },
      "source": [
        "e.fit(test['Gender'])\r\n",
        "test['Gender'] = e.transform(test['Gender'].values)\r\n",
        "\r\n",
        "e.fit(test['Customer Type'])\r\n",
        "test['Customer Type'] = e.transform(test['Customer Type'])\r\n",
        "\r\n",
        "\r\n",
        "e.fit(test['Type of Travel'])\r\n",
        "test['Type of Travel'] = e.transform(test['Type of Travel'])\r\n",
        "\r\n",
        "#encoder.fit(train['Class'])\r\n",
        "#train['Class'] = encoder.transform(train['Class'])\r\n",
        "\r\n",
        "\r\n",
        "e.fit(test['satisfaction'])\r\n",
        "test['satisfaction'] = e.transform(test['satisfaction'])"
      ],
      "execution_count": 30,
      "outputs": []
    },
    {
      "cell_type": "code",
      "metadata": {
        "id": "HNsyWNzzzPPw"
      },
      "source": [
        "import pandas as pd\r\n",
        "\r\n",
        "test=test.join(pd.get_dummies(test['Class']))\r\n"
      ],
      "execution_count": 31,
      "outputs": []
    },
    {
      "cell_type": "code",
      "metadata": {
        "id": "GmKd7fvezU50"
      },
      "source": [
        "test.drop('Class',axis=1,inplace=True)\r\n"
      ],
      "execution_count": 32,
      "outputs": []
    },
    {
      "cell_type": "code",
      "metadata": {
        "colab": {
          "base_uri": "https://localhost:8080/",
          "height": 274
        },
        "id": "fKEked_szZoY",
        "outputId": "dec9f589-c0c7-470a-d1db-8396a955f25c"
      },
      "source": [
        "train1 = sm.add_constant(train,has_constant=\"add\")\r\n",
        "train1.head()\r\n",
        "test = sm.add_constant(test,has_constant=\"add\")\r\n",
        "test.head()"
      ],
      "execution_count": 33,
      "outputs": [
        {
          "output_type": "execute_result",
          "data": {
            "text/html": [
              "<div>\n",
              "<style scoped>\n",
              "    .dataframe tbody tr th:only-of-type {\n",
              "        vertical-align: middle;\n",
              "    }\n",
              "\n",
              "    .dataframe tbody tr th {\n",
              "        vertical-align: top;\n",
              "    }\n",
              "\n",
              "    .dataframe thead th {\n",
              "        text-align: right;\n",
              "    }\n",
              "</style>\n",
              "<table border=\"1\" class=\"dataframe\">\n",
              "  <thead>\n",
              "    <tr style=\"text-align: right;\">\n",
              "      <th></th>\n",
              "      <th>const</th>\n",
              "      <th>Gender</th>\n",
              "      <th>Customer Type</th>\n",
              "      <th>Age</th>\n",
              "      <th>Type of Travel</th>\n",
              "      <th>Flight Distance</th>\n",
              "      <th>Seat comfort</th>\n",
              "      <th>Departure/Arrival time convenient</th>\n",
              "      <th>Food and drink</th>\n",
              "      <th>Gate location</th>\n",
              "      <th>Inflight wifi service</th>\n",
              "      <th>Inflight entertainment</th>\n",
              "      <th>Online support</th>\n",
              "      <th>Ease of Online booking</th>\n",
              "      <th>On-board service</th>\n",
              "      <th>Leg room service</th>\n",
              "      <th>Baggage handling</th>\n",
              "      <th>Checkin service</th>\n",
              "      <th>Cleanliness</th>\n",
              "      <th>Online boarding</th>\n",
              "      <th>Departure Delay in Minutes</th>\n",
              "      <th>Arrival Delay in Minutes</th>\n",
              "      <th>satisfaction</th>\n",
              "      <th>Business</th>\n",
              "      <th>Eco</th>\n",
              "      <th>Eco Plus</th>\n",
              "    </tr>\n",
              "  </thead>\n",
              "  <tbody>\n",
              "    <tr>\n",
              "      <th>0</th>\n",
              "      <td>1.0</td>\n",
              "      <td>1</td>\n",
              "      <td>0</td>\n",
              "      <td>53</td>\n",
              "      <td>1</td>\n",
              "      <td>2342</td>\n",
              "      <td>3</td>\n",
              "      <td>4</td>\n",
              "      <td>3</td>\n",
              "      <td>2</td>\n",
              "      <td>3</td>\n",
              "      <td>3</td>\n",
              "      <td>3</td>\n",
              "      <td>3</td>\n",
              "      <td>4</td>\n",
              "      <td>4</td>\n",
              "      <td>4</td>\n",
              "      <td>3</td>\n",
              "      <td>4</td>\n",
              "      <td>3</td>\n",
              "      <td>51</td>\n",
              "      <td>81.0</td>\n",
              "      <td>0</td>\n",
              "      <td>0</td>\n",
              "      <td>1</td>\n",
              "      <td>0</td>\n",
              "    </tr>\n",
              "    <tr>\n",
              "      <th>1</th>\n",
              "      <td>1.0</td>\n",
              "      <td>1</td>\n",
              "      <td>0</td>\n",
              "      <td>44</td>\n",
              "      <td>0</td>\n",
              "      <td>2648</td>\n",
              "      <td>4</td>\n",
              "      <td>4</td>\n",
              "      <td>4</td>\n",
              "      <td>4</td>\n",
              "      <td>2</td>\n",
              "      <td>1</td>\n",
              "      <td>3</td>\n",
              "      <td>5</td>\n",
              "      <td>5</td>\n",
              "      <td>5</td>\n",
              "      <td>5</td>\n",
              "      <td>4</td>\n",
              "      <td>5</td>\n",
              "      <td>2</td>\n",
              "      <td>2</td>\n",
              "      <td>60.0</td>\n",
              "      <td>1</td>\n",
              "      <td>1</td>\n",
              "      <td>0</td>\n",
              "      <td>0</td>\n",
              "    </tr>\n",
              "    <tr>\n",
              "      <th>2</th>\n",
              "      <td>1.0</td>\n",
              "      <td>1</td>\n",
              "      <td>1</td>\n",
              "      <td>33</td>\n",
              "      <td>0</td>\n",
              "      <td>1994</td>\n",
              "      <td>3</td>\n",
              "      <td>3</td>\n",
              "      <td>3</td>\n",
              "      <td>5</td>\n",
              "      <td>4</td>\n",
              "      <td>3</td>\n",
              "      <td>4</td>\n",
              "      <td>4</td>\n",
              "      <td>3</td>\n",
              "      <td>4</td>\n",
              "      <td>5</td>\n",
              "      <td>5</td>\n",
              "      <td>5</td>\n",
              "      <td>4</td>\n",
              "      <td>0</td>\n",
              "      <td>0.0</td>\n",
              "      <td>0</td>\n",
              "      <td>1</td>\n",
              "      <td>0</td>\n",
              "      <td>0</td>\n",
              "    </tr>\n",
              "    <tr>\n",
              "      <th>3</th>\n",
              "      <td>1.0</td>\n",
              "      <td>0</td>\n",
              "      <td>1</td>\n",
              "      <td>43</td>\n",
              "      <td>0</td>\n",
              "      <td>1613</td>\n",
              "      <td>4</td>\n",
              "      <td>3</td>\n",
              "      <td>5</td>\n",
              "      <td>3</td>\n",
              "      <td>1</td>\n",
              "      <td>5</td>\n",
              "      <td>1</td>\n",
              "      <td>1</td>\n",
              "      <td>3</td>\n",
              "      <td>5</td>\n",
              "      <td>3</td>\n",
              "      <td>3</td>\n",
              "      <td>4</td>\n",
              "      <td>1</td>\n",
              "      <td>12</td>\n",
              "      <td>20.0</td>\n",
              "      <td>0</td>\n",
              "      <td>0</td>\n",
              "      <td>1</td>\n",
              "      <td>0</td>\n",
              "    </tr>\n",
              "    <tr>\n",
              "      <th>4</th>\n",
              "      <td>1.0</td>\n",
              "      <td>0</td>\n",
              "      <td>0</td>\n",
              "      <td>53</td>\n",
              "      <td>0</td>\n",
              "      <td>2075</td>\n",
              "      <td>1</td>\n",
              "      <td>1</td>\n",
              "      <td>1</td>\n",
              "      <td>1</td>\n",
              "      <td>3</td>\n",
              "      <td>3</td>\n",
              "      <td>4</td>\n",
              "      <td>5</td>\n",
              "      <td>5</td>\n",
              "      <td>4</td>\n",
              "      <td>5</td>\n",
              "      <td>4</td>\n",
              "      <td>5</td>\n",
              "      <td>3</td>\n",
              "      <td>8</td>\n",
              "      <td>13.0</td>\n",
              "      <td>1</td>\n",
              "      <td>1</td>\n",
              "      <td>0</td>\n",
              "      <td>0</td>\n",
              "    </tr>\n",
              "  </tbody>\n",
              "</table>\n",
              "</div>"
            ],
            "text/plain": [
              "   const  Gender  Customer Type  Age  ...  satisfaction  Business  Eco  Eco Plus\n",
              "0    1.0       1              0   53  ...             0         0    1         0\n",
              "1    1.0       1              0   44  ...             1         1    0         0\n",
              "2    1.0       1              1   33  ...             0         1    0         0\n",
              "3    1.0       0              1   43  ...             0         0    1         0\n",
              "4    1.0       0              0   53  ...             1         1    0         0\n",
              "\n",
              "[5 rows x 26 columns]"
            ]
          },
          "metadata": {
            "tags": []
          },
          "execution_count": 33
        }
      ]
    },
    {
      "cell_type": "code",
      "metadata": {
        "id": "GdyegTe2zawU"
      },
      "source": [
        "x_train, y_train = train1.loc[:, train1.columns != 'satisfaction'].values, train1['satisfaction'].values \r\n",
        "x_test, y_test = test.loc[:, test.columns != 'satisfaction'].values, test['satisfaction'].values"
      ],
      "execution_count": 34,
      "outputs": []
    },
    {
      "cell_type": "code",
      "metadata": {
        "colab": {
          "base_uri": "https://localhost:8080/",
          "height": 777
        },
        "id": "n18OZSrjzubS",
        "outputId": "35c282ec-9670-4448-8b22-7a68a27e03cd"
      },
      "source": [
        "\r\n",
        "logit_mod = sm.Logit(y_train,x_train)\r\n",
        "results = logit_mod.fit()\r\n",
        "results.summary()\r\n",
        "#departure delay in minute은 \tP>|z|가 0.05 이상이므로 유효하지 않은 변수\r\n",
        "#원핫인코딩 해준 변수들은 항상 저렇게 x22,23,24처럼 1로 나오던데 어떻게 해결하는지 모르겠다..! ㅜㅜ"
      ],
      "execution_count": 35,
      "outputs": [
        {
          "output_type": "stream",
          "text": [
            "Optimization terminated successfully.\n",
            "         Current function value: 0.387549\n",
            "         Iterations 7\n"
          ],
          "name": "stdout"
        },
        {
          "output_type": "execute_result",
          "data": {
            "text/html": [
              "<table class=\"simpletable\">\n",
              "<caption>Logit Regression Results</caption>\n",
              "<tr>\n",
              "  <th>Dep. Variable:</th>           <td>y</td>        <th>  No. Observations:  </th>  <td> 51794</td> \n",
              "</tr>\n",
              "<tr>\n",
              "  <th>Model:</th>                 <td>Logit</td>      <th>  Df Residuals:      </th>  <td> 51770</td> \n",
              "</tr>\n",
              "<tr>\n",
              "  <th>Method:</th>                 <td>MLE</td>       <th>  Df Model:          </th>  <td>    23</td> \n",
              "</tr>\n",
              "<tr>\n",
              "  <th>Date:</th>            <td>Sat, 16 Jan 2021</td> <th>  Pseudo R-squ.:     </th>  <td>0.4375</td> \n",
              "</tr>\n",
              "<tr>\n",
              "  <th>Time:</th>                <td>16:06:18</td>     <th>  Log-Likelihood:    </th> <td> -20073.</td>\n",
              "</tr>\n",
              "<tr>\n",
              "  <th>converged:</th>             <td>True</td>       <th>  LL-Null:           </th> <td> -35683.</td>\n",
              "</tr>\n",
              "<tr>\n",
              "  <th>Covariance Type:</th>     <td>nonrobust</td>    <th>  LLR p-value:       </th>  <td> 0.000</td> \n",
              "</tr>\n",
              "</table>\n",
              "<table class=\"simpletable\">\n",
              "<tr>\n",
              "    <td></td>       <th>coef</th>     <th>std err</th>      <th>z</th>      <th>P>|z|</th>  <th>[0.025</th>    <th>0.975]</th>  \n",
              "</tr>\n",
              "<tr>\n",
              "  <th>const</th> <td>   -3.9949</td> <td> 8.61e+05</td> <td>-4.64e-06</td> <td> 1.000</td> <td>-1.69e+06</td> <td> 1.69e+06</td>\n",
              "</tr>\n",
              "<tr>\n",
              "  <th>x1</th>    <td>   -0.9390</td> <td>    0.026</td> <td>  -36.204</td> <td> 0.000</td> <td>   -0.990</td> <td>   -0.888</td>\n",
              "</tr>\n",
              "<tr>\n",
              "  <th>x2</th>    <td>   -1.9252</td> <td>    0.039</td> <td>  -48.943</td> <td> 0.000</td> <td>   -2.002</td> <td>   -1.848</td>\n",
              "</tr>\n",
              "<tr>\n",
              "  <th>x3</th>    <td>   -0.0080</td> <td>    0.001</td> <td>   -8.792</td> <td> 0.000</td> <td>   -0.010</td> <td>   -0.006</td>\n",
              "</tr>\n",
              "<tr>\n",
              "  <th>x4</th>    <td>   -0.7590</td> <td>    0.037</td> <td>  -20.579</td> <td> 0.000</td> <td>   -0.831</td> <td>   -0.687</td>\n",
              "</tr>\n",
              "<tr>\n",
              "  <th>x5</th>    <td>   -0.0001</td> <td> 1.36e-05</td> <td>   -7.795</td> <td> 0.000</td> <td>   -0.000</td> <td>-7.93e-05</td>\n",
              "</tr>\n",
              "<tr>\n",
              "  <th>x6</th>    <td>    0.2854</td> <td>    0.015</td> <td>   19.624</td> <td> 0.000</td> <td>    0.257</td> <td>    0.314</td>\n",
              "</tr>\n",
              "<tr>\n",
              "  <th>x7</th>    <td>   -0.2075</td> <td>    0.011</td> <td>  -19.334</td> <td> 0.000</td> <td>   -0.229</td> <td>   -0.186</td>\n",
              "</tr>\n",
              "<tr>\n",
              "  <th>x8</th>    <td>   -0.2187</td> <td>    0.015</td> <td>  -14.820</td> <td> 0.000</td> <td>   -0.248</td> <td>   -0.190</td>\n",
              "</tr>\n",
              "<tr>\n",
              "  <th>x9</th>    <td>    0.1250</td> <td>    0.012</td> <td>   10.378</td> <td> 0.000</td> <td>    0.101</td> <td>    0.149</td>\n",
              "</tr>\n",
              "<tr>\n",
              "  <th>x10</th>   <td>   -0.0775</td> <td>    0.014</td> <td>   -5.507</td> <td> 0.000</td> <td>   -0.105</td> <td>   -0.050</td>\n",
              "</tr>\n",
              "<tr>\n",
              "  <th>x11</th>   <td>    0.6904</td> <td>    0.013</td> <td>   52.473</td> <td> 0.000</td> <td>    0.665</td> <td>    0.716</td>\n",
              "</tr>\n",
              "<tr>\n",
              "  <th>x12</th>   <td>    0.0939</td> <td>    0.014</td> <td>    6.585</td> <td> 0.000</td> <td>    0.066</td> <td>    0.122</td>\n",
              "</tr>\n",
              "<tr>\n",
              "  <th>x13</th>   <td>    0.2126</td> <td>    0.018</td> <td>   11.542</td> <td> 0.000</td> <td>    0.176</td> <td>    0.249</td>\n",
              "</tr>\n",
              "<tr>\n",
              "  <th>x14</th>   <td>    0.2823</td> <td>    0.013</td> <td>   21.716</td> <td> 0.000</td> <td>    0.257</td> <td>    0.308</td>\n",
              "</tr>\n",
              "<tr>\n",
              "  <th>x15</th>   <td>    0.2306</td> <td>    0.011</td> <td>   20.879</td> <td> 0.000</td> <td>    0.209</td> <td>    0.252</td>\n",
              "</tr>\n",
              "<tr>\n",
              "  <th>x16</th>   <td>    0.1038</td> <td>    0.015</td> <td>    7.064</td> <td> 0.000</td> <td>    0.075</td> <td>    0.133</td>\n",
              "</tr>\n",
              "<tr>\n",
              "  <th>x17</th>   <td>    0.2976</td> <td>    0.011</td> <td>   27.089</td> <td> 0.000</td> <td>    0.276</td> <td>    0.319</td>\n",
              "</tr>\n",
              "<tr>\n",
              "  <th>x18</th>   <td>    0.0969</td> <td>    0.015</td> <td>    6.347</td> <td> 0.000</td> <td>    0.067</td> <td>    0.127</td>\n",
              "</tr>\n",
              "<tr>\n",
              "  <th>x19</th>   <td>    0.1728</td> <td>    0.016</td> <td>   11.003</td> <td> 0.000</td> <td>    0.142</td> <td>    0.204</td>\n",
              "</tr>\n",
              "<tr>\n",
              "  <th>x20</th>   <td>    0.0020</td> <td>    0.001</td> <td>    1.609</td> <td> 0.108</td> <td>   -0.000</td> <td>    0.005</td>\n",
              "</tr>\n",
              "<tr>\n",
              "  <th>x21</th>   <td>   -0.0072</td> <td>    0.001</td> <td>   -5.815</td> <td> 0.000</td> <td>   -0.010</td> <td>   -0.005</td>\n",
              "</tr>\n",
              "<tr>\n",
              "  <th>x22</th>   <td>   -0.8153</td> <td> 8.61e+05</td> <td>-9.46e-07</td> <td> 1.000</td> <td>-1.69e+06</td> <td> 1.69e+06</td>\n",
              "</tr>\n",
              "<tr>\n",
              "  <th>x23</th>   <td>   -1.5449</td> <td> 8.61e+05</td> <td>-1.79e-06</td> <td> 1.000</td> <td>-1.69e+06</td> <td> 1.69e+06</td>\n",
              "</tr>\n",
              "<tr>\n",
              "  <th>x24</th>   <td>   -1.6348</td> <td> 8.61e+05</td> <td> -1.9e-06</td> <td> 1.000</td> <td>-1.69e+06</td> <td> 1.69e+06</td>\n",
              "</tr>\n",
              "</table>"
            ],
            "text/plain": [
              "<class 'statsmodels.iolib.summary.Summary'>\n",
              "\"\"\"\n",
              "                           Logit Regression Results                           \n",
              "==============================================================================\n",
              "Dep. Variable:                      y   No. Observations:                51794\n",
              "Model:                          Logit   Df Residuals:                    51770\n",
              "Method:                           MLE   Df Model:                           23\n",
              "Date:                Sat, 16 Jan 2021   Pseudo R-squ.:                  0.4375\n",
              "Time:                        16:06:18   Log-Likelihood:                -20073.\n",
              "converged:                       True   LL-Null:                       -35683.\n",
              "Covariance Type:            nonrobust   LLR p-value:                     0.000\n",
              "==============================================================================\n",
              "                 coef    std err          z      P>|z|      [0.025      0.975]\n",
              "------------------------------------------------------------------------------\n",
              "const         -3.9949   8.61e+05  -4.64e-06      1.000   -1.69e+06    1.69e+06\n",
              "x1            -0.9390      0.026    -36.204      0.000      -0.990      -0.888\n",
              "x2            -1.9252      0.039    -48.943      0.000      -2.002      -1.848\n",
              "x3            -0.0080      0.001     -8.792      0.000      -0.010      -0.006\n",
              "x4            -0.7590      0.037    -20.579      0.000      -0.831      -0.687\n",
              "x5            -0.0001   1.36e-05     -7.795      0.000      -0.000   -7.93e-05\n",
              "x6             0.2854      0.015     19.624      0.000       0.257       0.314\n",
              "x7            -0.2075      0.011    -19.334      0.000      -0.229      -0.186\n",
              "x8            -0.2187      0.015    -14.820      0.000      -0.248      -0.190\n",
              "x9             0.1250      0.012     10.378      0.000       0.101       0.149\n",
              "x10           -0.0775      0.014     -5.507      0.000      -0.105      -0.050\n",
              "x11            0.6904      0.013     52.473      0.000       0.665       0.716\n",
              "x12            0.0939      0.014      6.585      0.000       0.066       0.122\n",
              "x13            0.2126      0.018     11.542      0.000       0.176       0.249\n",
              "x14            0.2823      0.013     21.716      0.000       0.257       0.308\n",
              "x15            0.2306      0.011     20.879      0.000       0.209       0.252\n",
              "x16            0.1038      0.015      7.064      0.000       0.075       0.133\n",
              "x17            0.2976      0.011     27.089      0.000       0.276       0.319\n",
              "x18            0.0969      0.015      6.347      0.000       0.067       0.127\n",
              "x19            0.1728      0.016     11.003      0.000       0.142       0.204\n",
              "x20            0.0020      0.001      1.609      0.108      -0.000       0.005\n",
              "x21           -0.0072      0.001     -5.815      0.000      -0.010      -0.005\n",
              "x22           -0.8153   8.61e+05  -9.46e-07      1.000   -1.69e+06    1.69e+06\n",
              "x23           -1.5449   8.61e+05  -1.79e-06      1.000   -1.69e+06    1.69e+06\n",
              "x24           -1.6348   8.61e+05   -1.9e-06      1.000   -1.69e+06    1.69e+06\n",
              "==============================================================================\n",
              "\"\"\""
            ]
          },
          "metadata": {
            "tags": []
          },
          "execution_count": 35
        }
      ]
    },
    {
      "cell_type": "code",
      "metadata": {
        "colab": {
          "base_uri": "https://localhost:8080/"
        },
        "id": "LpihmyJEz3G0",
        "outputId": "2b644d50-53db-4bbb-8528-83e18ac6a606"
      },
      "source": [
        "np.exp(results.params)"
      ],
      "execution_count": 36,
      "outputs": [
        {
          "output_type": "execute_result",
          "data": {
            "text/plain": [
              "array([0.0184084 , 0.39103724, 0.14584674, 0.9920812 , 0.46812275,\n",
              "       0.99989402, 1.33032439, 0.81261357, 0.80356294, 1.1330936 ,\n",
              "       0.92541335, 1.99456672, 1.09842907, 1.23684864, 1.32616316,\n",
              "       1.25934315, 1.10942762, 1.34658357, 1.10177959, 1.18865794,\n",
              "       1.00203601, 0.99279146, 0.44250826, 0.21333343, 0.195001  ])"
            ]
          },
          "metadata": {
            "tags": []
          },
          "execution_count": 36
        }
      ]
    },
    {
      "cell_type": "code",
      "metadata": {
        "colab": {
          "base_uri": "https://localhost:8080/"
        },
        "id": "QAY67MzO0hs-",
        "outputId": "9e404ac3-f89f-4146-ffb1-e7044fbb6b97"
      },
      "source": [
        "y_pred = results.predict(x_test)\r\n",
        "y_pred"
      ],
      "execution_count": 37,
      "outputs": [
        {
          "output_type": "execute_result",
          "data": {
            "text/plain": [
              "array([0.1485863 , 0.52774643, 0.49839865, ..., 0.93273388, 0.11971635,\n",
              "       0.00597283])"
            ]
          },
          "metadata": {
            "tags": []
          },
          "execution_count": 37
        }
      ]
    },
    {
      "cell_type": "code",
      "metadata": {
        "colab": {
          "base_uri": "https://localhost:8080/"
        },
        "id": "B7jwGQFh1m5y",
        "outputId": "a84bc794-a5f2-4904-a768-c1389c99da8d"
      },
      "source": [
        "def cut_off(y,threshold):\r\n",
        "  Y = y.copy()\r\n",
        "  Y[Y>threshold]=1\r\n",
        "  Y[Y<=threshold]=0\r\n",
        "  return(Y.astype(int))\r\n",
        "pred_Y = cut_off(y_pred,0.5)\r\n",
        "pred_Y "
      ],
      "execution_count": 38,
      "outputs": [
        {
          "output_type": "execute_result",
          "data": {
            "text/plain": [
              "array([0, 1, 0, ..., 1, 0, 0])"
            ]
          },
          "metadata": {
            "tags": []
          },
          "execution_count": 38
        }
      ]
    },
    {
      "cell_type": "code",
      "metadata": {
        "colab": {
          "base_uri": "https://localhost:8080/"
        },
        "id": "CPfAcjTP2hKO",
        "outputId": "7c9a63bb-5c10-4ce0-da67-3b1b8bd5ea91"
      },
      "source": [
        "cfmat = confusion_matrix(y_test,pred_Y)\r\n",
        "print(cfmat)"
      ],
      "execution_count": 39,
      "outputs": [
        {
          "output_type": "stream",
          "text": [
            "[[4804 1074]\n",
            " [1054 6017]]\n"
          ],
          "name": "stdout"
        }
      ]
    },
    {
      "cell_type": "code",
      "metadata": {
        "colab": {
          "base_uri": "https://localhost:8080/"
        },
        "id": "lv4fsrvt12g9",
        "outputId": "c4c12d16-5ce1-4afd-be40-8e38a142ffcf"
      },
      "source": [
        "(cfmat[0,0]+cfmat[1,1])/len(pred_Y)"
      ],
      "execution_count": 40,
      "outputs": [
        {
          "output_type": "execute_result",
          "data": {
            "text/plain": [
              "0.8356629855587304"
            ]
          },
          "metadata": {
            "tags": []
          },
          "execution_count": 40
        }
      ]
    },
    {
      "cell_type": "markdown",
      "metadata": {
        "id": "vMc90HDx2k_Z"
      },
      "source": [
        "#2-(2)\r\n",
        "test misclassification rate"
      ]
    },
    {
      "cell_type": "code",
      "metadata": {
        "colab": {
          "base_uri": "https://localhost:8080/"
        },
        "id": "IXlMW81f19BS",
        "outputId": "72f4f885-9868-49af-da49-3d56a88634c5"
      },
      "source": [
        "(cfmat[0,1]+cfmat[1,0])/len(pred_Y)"
      ],
      "execution_count": 41,
      "outputs": [
        {
          "output_type": "execute_result",
          "data": {
            "text/plain": [
              "0.1643370144412696"
            ]
          },
          "metadata": {
            "tags": []
          },
          "execution_count": 41
        }
      ]
    },
    {
      "cell_type": "code",
      "metadata": {
        "id": "ACp9LlOg2LZq"
      },
      "source": [
        ""
      ],
      "execution_count": 41,
      "outputs": []
    }
  ]
}